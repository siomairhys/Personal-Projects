{
 "cells": [
  {
   "cell_type": "markdown",
   "id": "85921d41",
   "metadata": {},
   "source": [
    "# BMI Calculator\n",
    "\n",
    "https://www.calculator.net/bmi-calculator.html"
   ]
  },
  {
   "cell_type": "code",
   "execution_count": 1,
   "id": "ca708309",
   "metadata": {},
   "outputs": [
    {
     "name": "stdout",
     "output_type": "stream",
     "text": [
      "Enter Your Name!Sherwin\n",
      "Enter your height in inches: 80\n",
      "Enter your weight in pounds: 190\n",
      "20.8703125\n",
      "Sherwin, You are Normal.\n"
     ]
    }
   ],
   "source": [
    "name = input('Enter Your Name!')\n",
    "\n",
    "height = int(input('Enter your height in inches: '))\n",
    "\n",
    "\n",
    "weight = int(input('Enter your weight in pounds: '))\n",
    "\n",
    "\n",
    "BMI = (weight * 703) / (height * height)\n",
    "print(BMI)\n",
    "\n",
    "if BMI>0:\n",
    "    if(BMI<16):\n",
    "        print(name +\", You are Severe Thinness.\")\n",
    "    elif(BMI<=17):\n",
    "        print(name +\", You are Moderate Thinness.\")\n",
    "    elif(BMI<=18.5):\n",
    "        print(name +\", You are Mild Thinness.\")\n",
    "    elif(BMI<=25):\n",
    "        print(name +\", You are Normal.\")\n",
    "    elif(BMI<=30):\n",
    "        print(name +\", You are Overweight.\")\n",
    "    elif(BMI<=35):\n",
    "        print(name +\", You are Obese Class I.\")\n",
    "    elif(BMI<=40):\n",
    "        print(name +\", You are Obese Class II.\")\n",
    "    elif(BMI<=40):\n",
    "        print(name +\", You are Obese Class III.\")\n",
    "    else:\n",
    "        print(\"You are Morbitly Obese.\")"
   ]
  },
  {
   "cell_type": "code",
   "execution_count": null,
   "id": "9950aed3",
   "metadata": {},
   "outputs": [],
   "source": []
  },
  {
   "cell_type": "code",
   "execution_count": null,
   "id": "0db7d60a",
   "metadata": {},
   "outputs": [],
   "source": []
  },
  {
   "cell_type": "code",
   "execution_count": null,
   "id": "d0f87901",
   "metadata": {},
   "outputs": [],
   "source": []
  },
  {
   "cell_type": "code",
   "execution_count": 10,
   "id": "b3a665d2",
   "metadata": {},
   "outputs": [],
   "source": [
    "# BMI = (weight in pounds x 703) / (height in incches x height in inches)"
   ]
  },
  {
   "cell_type": "code",
   "execution_count": null,
   "id": "1f9ac5cf",
   "metadata": {},
   "outputs": [],
   "source": [
    "Classification\tBMI range - kg/m2\n",
    "Severe Thinness\t< 16\n",
    "Moderate Thinness\t16 - 17\n",
    "Mild Thinness\t17 - 18.5\n",
    "Normal\t18.5 - 25\n",
    "Overweight\t25 - 30\n",
    "Obese Class I\t30 - 35\n",
    "Obese Class II\t35 - 40\n",
    "Obese Class III\t> 40"
   ]
  },
  {
   "cell_type": "code",
   "execution_count": 14,
   "id": "3eb0634b",
   "metadata": {},
   "outputs": [
    {
     "ename": "NameError",
     "evalue": "name 'name' is not defined",
     "output_type": "error",
     "traceback": [
      "\u001b[1;31m---------------------------------------------------------------------------\u001b[0m",
      "\u001b[1;31mNameError\u001b[0m                                 Traceback (most recent call last)",
      "Cell \u001b[1;32mIn[14], line 13\u001b[0m\n\u001b[0;32m     11\u001b[0m     \u001b[38;5;28mprint\u001b[39m(name \u001b[38;5;241m+\u001b[39m\u001b[38;5;124m\"\u001b[39m\u001b[38;5;124m, You are Overweight\u001b[39m\u001b[38;5;124m\"\u001b[39m)\n\u001b[0;32m     12\u001b[0m \u001b[38;5;28;01melif\u001b[39;00m(BMI\u001b[38;5;241m<\u001b[39m\u001b[38;5;241m=\u001b[39m\u001b[38;5;241m35\u001b[39m):\n\u001b[1;32m---> 13\u001b[0m     \u001b[38;5;28mprint\u001b[39m(name \u001b[38;5;241m+\u001b[39m\u001b[38;5;124m\"\u001b[39m\u001b[38;5;124m, You are Obese Class I\u001b[39m\u001b[38;5;124m\"\u001b[39m)\n\u001b[0;32m     14\u001b[0m \u001b[38;5;28;01melif\u001b[39;00m(BMI\u001b[38;5;241m<\u001b[39m\u001b[38;5;241m=\u001b[39m\u001b[38;5;241m40\u001b[39m):\n\u001b[0;32m     15\u001b[0m     \u001b[38;5;28mprint\u001b[39m(name \u001b[38;5;241m+\u001b[39m\u001b[38;5;124m\"\u001b[39m\u001b[38;5;124m, You are Obese Class II\u001b[39m\u001b[38;5;124m\"\u001b[39m)\n",
      "\u001b[1;31mNameError\u001b[0m: name 'name' is not defined"
     ]
    }
   ],
   "source": [
    "if BMI>0:\n",
    "    if(BMI<16):\n",
    "        print(name +\", You are Severe Thinness\")\n",
    "    elif(BMI<=17):\n",
    "        print(name +\", You are Moderate Thinness\")\n",
    "    elif(BMI<=18.5):\n",
    "        print(name +\", You are Mild Thinness\")\n",
    "    elif(BMI<=25):\n",
    "        print(name +\", You are Normal\")\n",
    "    elif(BMI<=30):\n",
    "        print(name +\", You are Overweight\")\n",
    "    elif(BMI<=35):\n",
    "        print(name +\", You are Obese Class I\")\n",
    "    elif(BMI<=40):\n",
    "        print(name +\", You are Obese Class II\")\n",
    "    elif(BMI<=40):\n",
    "        print(name +\", You are Obese Class III\")\n",
    "    else:\n",
    "        print(\"You are morbitly obese\")"
   ]
  },
  {
   "cell_type": "code",
   "execution_count": null,
   "id": "b759ecd3",
   "metadata": {},
   "outputs": [],
   "source": []
  },
  {
   "cell_type": "code",
   "execution_count": null,
   "id": "7951d080",
   "metadata": {},
   "outputs": [],
   "source": []
  },
  {
   "cell_type": "code",
   "execution_count": null,
   "id": "19c96430",
   "metadata": {},
   "outputs": [],
   "source": []
  }
 ],
 "metadata": {
  "kernelspec": {
   "display_name": "Python 3 (ipykernel)",
   "language": "python",
   "name": "python3"
  },
  "language_info": {
   "codemirror_mode": {
    "name": "ipython",
    "version": 3
   },
   "file_extension": ".py",
   "mimetype": "text/x-python",
   "name": "python",
   "nbconvert_exporter": "python",
   "pygments_lexer": "ipython3",
   "version": "3.11.3"
  }
 },
 "nbformat": 4,
 "nbformat_minor": 5
}
